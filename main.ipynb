{
 "cells": [
  {
   "cell_type": "code",
   "execution_count": 133,
   "metadata": {},
   "outputs": [],
   "source": [
    "import matplotlib.pyplot as plt\n",
    "import numpy as np\n",
    "import pandas as pd"
   ]
  },
  {
   "cell_type": "code",
   "execution_count": 134,
   "metadata": {},
   "outputs": [],
   "source": [
    "def label_2sigma_angle(ang, mean_ang, std_ang):\n",
    "    if (abs(ang) > (mean_ang + 2.0 * std_ang)):\n",
    "        return True\n",
    "    else:\n",
    "        return False\n",
    "\n",
    "def label_3sigma_trq(trq, mean_trq, std_trq):\n",
    "    if (trq > (mean_trq + 3.0 * std_trq)):\n",
    "        return True\n",
    "    else:\n",
    "        return False\n",
    "\n",
    "def calc_point2point(actual, predict):\n",
    "    \"\"\"\n",
    "    calculate f1 score by predict and actual.\n",
    "    Args:\n",
    "        actual (np.ndarray): np.ndarray\n",
    "        predict (np.ndarray): the predict label\n",
    "    \"\"\"\n",
    "    TP = np.sum(predict * actual)\n",
    "    TN = np.sum((1 - predict) * (1 - actual))\n",
    "    FP = np.sum(predict * (1 - actual))\n",
    "    FN = np.sum((1 - predict) * actual)\n",
    "    precision = TP / (TP + FP + 0.00001)\n",
    "    recall = TP / (TP + FN + 0.00001)\n",
    "    f1 = 2 * precision * recall / (precision + recall + 0.00001)\n",
    "    return f1, precision, recall, TP, TN, FP, FN"
   ]
  },
  {
   "cell_type": "code",
   "execution_count": 135,
   "metadata": {},
   "outputs": [
    {
     "name": "stdout",
     "output_type": "stream",
     "text": [
      "   labels\n",
      "0       0\n",
      "1       0\n",
      "2       0\n",
      "3       0\n",
      "4       0\n",
      "          ANG        TRQ    ANG_pred   TRQ pred       MAE  Anomaly\n",
      "0  -91.000010  2687.0000  -90.761900  2687.1611  0.000791    False\n",
      "1  -88.999990  2604.9998  -87.947105  2604.1638  0.003688    False\n",
      "2 -101.999990  2843.0000 -101.471200  2839.6775  0.006311    False\n",
      "3  -45.000000  2443.0000  -45.590237  2443.1714  0.001611    False\n",
      "4  -46.999992  2441.0000  -47.537178  2441.2737  0.001647    False\n"
     ]
    },
    {
     "ename": "KeyError",
     "evalue": "'true_anomaly'",
     "output_type": "error",
     "traceback": [
      "\u001b[1;31m---------------------------------------------------------------------------\u001b[0m",
      "\u001b[1;31mKeyError\u001b[0m                                  Traceback (most recent call last)",
      "\u001b[1;32mc:\\Users\\KIMLEANG_KEA\\OneDrive\\Desktop\\steering_system\\main.ipynb Cell 3\u001b[0m in \u001b[0;36m<cell line: 27>\u001b[1;34m()\u001b[0m\n\u001b[0;32m     <a href='vscode-notebook-cell:/c%3A/Users/KIMLEANG_KEA/OneDrive/Desktop/steering_system/main.ipynb#W2sZmlsZQ%3D%3D?line=23'>24</a>\u001b[0m anomaly \u001b[39m=\u001b[39m df[\u001b[39m'\u001b[39m\u001b[39mAnomaly\u001b[39m\u001b[39m'\u001b[39m]\n\u001b[0;32m     <a href='vscode-notebook-cell:/c%3A/Users/KIMLEANG_KEA/OneDrive/Desktop/steering_system/main.ipynb#W2sZmlsZQ%3D%3D?line=24'>25</a>\u001b[0m anomaly\u001b[39m.\u001b[39mto_csv(\u001b[39m'\u001b[39m\u001b[39manomaly_labels.csv\u001b[39m\u001b[39m'\u001b[39m, index\u001b[39m=\u001b[39m\u001b[39m0\u001b[39m)\n\u001b[1;32m---> <a href='vscode-notebook-cell:/c%3A/Users/KIMLEANG_KEA/OneDrive/Desktop/steering_system/main.ipynb#W2sZmlsZQ%3D%3D?line=26'>27</a>\u001b[0m \u001b[39mprint\u001b[39m(calc_point2point(anomaly[\u001b[39m'\u001b[39;49m\u001b[39mtrue_anomaly\u001b[39;49m\u001b[39m'\u001b[39;49m], anomaly[\u001b[39m'\u001b[39m\u001b[39mpred_anomaly\u001b[39m\u001b[39m'\u001b[39m]))\n",
      "File \u001b[1;32mc:\\Users\\KIMLEANG_KEA\\anaconda3\\envs\\eps\\lib\\site-packages\\pandas\\core\\series.py:958\u001b[0m, in \u001b[0;36mSeries.__getitem__\u001b[1;34m(self, key)\u001b[0m\n\u001b[0;32m    955\u001b[0m     \u001b[39mreturn\u001b[39;00m \u001b[39mself\u001b[39m\u001b[39m.\u001b[39m_values[key]\n\u001b[0;32m    957\u001b[0m \u001b[39melif\u001b[39;00m key_is_scalar:\n\u001b[1;32m--> 958\u001b[0m     \u001b[39mreturn\u001b[39;00m \u001b[39mself\u001b[39;49m\u001b[39m.\u001b[39;49m_get_value(key)\n\u001b[0;32m    960\u001b[0m \u001b[39mif\u001b[39;00m is_hashable(key):\n\u001b[0;32m    961\u001b[0m     \u001b[39m# Otherwise index.get_value will raise InvalidIndexError\u001b[39;00m\n\u001b[0;32m    962\u001b[0m     \u001b[39mtry\u001b[39;00m:\n\u001b[0;32m    963\u001b[0m         \u001b[39m# For labels that don't resolve as scalars like tuples and frozensets\u001b[39;00m\n",
      "File \u001b[1;32mc:\\Users\\KIMLEANG_KEA\\anaconda3\\envs\\eps\\lib\\site-packages\\pandas\\core\\series.py:1069\u001b[0m, in \u001b[0;36mSeries._get_value\u001b[1;34m(self, label, takeable)\u001b[0m\n\u001b[0;32m   1066\u001b[0m     \u001b[39mreturn\u001b[39;00m \u001b[39mself\u001b[39m\u001b[39m.\u001b[39m_values[label]\n\u001b[0;32m   1068\u001b[0m \u001b[39m# Similar to Index.get_value, but we do not fall back to positional\u001b[39;00m\n\u001b[1;32m-> 1069\u001b[0m loc \u001b[39m=\u001b[39m \u001b[39mself\u001b[39;49m\u001b[39m.\u001b[39;49mindex\u001b[39m.\u001b[39;49mget_loc(label)\n\u001b[0;32m   1070\u001b[0m \u001b[39mreturn\u001b[39;00m \u001b[39mself\u001b[39m\u001b[39m.\u001b[39mindex\u001b[39m.\u001b[39m_get_values_for_loc(\u001b[39mself\u001b[39m, loc, label)\n",
      "File \u001b[1;32mc:\\Users\\KIMLEANG_KEA\\anaconda3\\envs\\eps\\lib\\site-packages\\pandas\\core\\indexes\\range.py:389\u001b[0m, in \u001b[0;36mRangeIndex.get_loc\u001b[1;34m(self, key, method, tolerance)\u001b[0m\n\u001b[0;32m    387\u001b[0m             \u001b[39mraise\u001b[39;00m \u001b[39mKeyError\u001b[39;00m(key) \u001b[39mfrom\u001b[39;00m \u001b[39merr\u001b[39;00m\n\u001b[0;32m    388\u001b[0m     \u001b[39mself\u001b[39m\u001b[39m.\u001b[39m_check_indexing_error(key)\n\u001b[1;32m--> 389\u001b[0m     \u001b[39mraise\u001b[39;00m \u001b[39mKeyError\u001b[39;00m(key)\n\u001b[0;32m    390\u001b[0m \u001b[39mreturn\u001b[39;00m \u001b[39msuper\u001b[39m()\u001b[39m.\u001b[39mget_loc(key, method\u001b[39m=\u001b[39mmethod, tolerance\u001b[39m=\u001b[39mtolerance)\n",
      "\u001b[1;31mKeyError\u001b[0m: 'true_anomaly'"
     ]
    }
   ],
   "source": [
    "df = pd.read_csv('anomaly.csv')\n",
    "\n",
    "labels = np.zeros(len(df)).astype(int)\n",
    "labels = pd.DataFrame(labels, columns=['labels'])\n",
    "print(labels.head())\n",
    "\n",
    "mean_ang = np.mean(df['ANG'], axis=0)\n",
    "std_ang = np.std(df['ANG'], axis=0)\n",
    "angle_df = pd.DataFrame(df[['ANG']].apply(lambda df: label_2sigma_angle(df['ANG'], mean_ang, std_ang), axis=1), columns=['ang'])\n",
    "\n",
    "mean_trq = np.mean(df['TRQ'], axis=0)\n",
    "std_trq = np.std(df['TRQ'], axis=0)\n",
    "trq_df = pd.DataFrame(df[['TRQ']].apply(lambda df: label_3sigma_trq(df['TRQ'], mean_trq, std_trq), axis=1), columns=['trq'])\n",
    "\n",
    "anomaly = pd.concat([angle_df, trq_df], axis=1)\n",
    "anomaly = np.sum(anomaly, axis=1) >= 1 + 0\n",
    "\n",
    "anomaly = anomaly.to_frame()\n",
    "anomaly.columns = ['true_anomaly']\n",
    "anomaly['pred_anomaly'] = df['Anomaly']\n",
    "\n",
    "print(df.head())\n",
    "\n",
    "anomaly = df['Anomaly']\n",
    "anomaly.to_csv('anomaly_labels.csv', index=0)\n",
    "\n",
    "print(calc_point2point(anomaly['true_anomaly'], anomaly['pred_anomaly']))"
   ]
  },
  {
   "cell_type": "code",
   "execution_count": null,
   "metadata": {},
   "outputs": [],
   "source": [
    "plt.plot(df['MAE'])"
   ]
  },
  {
   "cell_type": "code",
   "execution_count": null,
   "metadata": {},
   "outputs": [],
   "source": []
  }
 ],
 "metadata": {
  "kernelspec": {
   "display_name": "Python 3.9.13 ('eps')",
   "language": "python",
   "name": "python3"
  },
  "language_info": {
   "codemirror_mode": {
    "name": "ipython",
    "version": 3
   },
   "file_extension": ".py",
   "mimetype": "text/x-python",
   "name": "python",
   "nbconvert_exporter": "python",
   "pygments_lexer": "ipython3",
   "version": "3.9.13"
  },
  "orig_nbformat": 4,
  "vscode": {
   "interpreter": {
    "hash": "137bc13869b7ecab20676a3c1619a5bc5ce109beb0b0a4db920e8b5ac87971d1"
   }
  }
 },
 "nbformat": 4,
 "nbformat_minor": 2
}
